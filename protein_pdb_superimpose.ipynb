{
 "cells": [
  {
   "cell_type": "markdown",
   "metadata": {},
   "source": [
    "# 以Biopython重疊蛋白質分子(蛋白質殘基數目需一樣)"
   ]
  },
  {
   "cell_type": "code",
   "execution_count": 18,
   "metadata": {},
   "outputs": [
    {
     "name": "stdout",
     "output_type": "stream",
     "text": [
      "0.35993250668830096\n"
     ]
    }
   ],
   "source": [
    "# https://gist.github.com/andersx/6354971\n",
    "\n",
    "import Bio.PDB\n",
    "\n",
    "# Select what residues numbers you wish to align\n",
    "# and put them in a list\n",
    "start_id = 1\n",
    "end_id   = 70\n",
    "atoms_to_be_aligned = range(start_id, end_id + 1)\n",
    "# 選整個分子(76)去重疊，RMSD比較大\n",
    "\n",
    "# Start the parser\n",
    "pdb_parser = Bio.PDB.PDBParser(QUIET = True)\n",
    "\n",
    "# Get the structures\n",
    "ref_structure = pdb_parser.get_structure(\"reference\", \"1d3z.pdb\")\n",
    "sample_structure = pdb_parser.get_structure(\"sample\", \"1ubq.pdb\")\n",
    "\n",
    "# Use the first model in the pdb-files for alignment\n",
    "# Change the number 0 if you want to align to another structure\n",
    "ref_model    = ref_structure[0]\n",
    "sample_model = sample_structure[0]\n",
    "\n",
    "# Make a list of the atoms (in the structures) you wish to align.\n",
    "# In this case we use CA atoms whose index is in the specified range\n",
    "ref_atoms = []\n",
    "sample_atoms = []\n",
    "\n",
    "# Iterate of all chains in the model in order to find all residues\n",
    "for ref_chain in ref_model:\n",
    "  # Iterate of all residues in each model in order to find proper atoms\n",
    "  for ref_res in ref_chain:\n",
    "    # Check if residue number ( .get_id() ) is in the list\n",
    "    if ref_res.get_id()[1] in atoms_to_be_aligned:\n",
    "        \n",
    "      # Append CA atom to list\n",
    "      ref_atoms.append(ref_res['CA'])\n",
    "\n",
    "# Do the same for the sample structure\n",
    "for sample_chain in sample_model:\n",
    "  for sample_res in sample_chain:\n",
    "    if sample_res.get_id()[1] in atoms_to_be_aligned:\n",
    "      sample_atoms.append(sample_res['CA'])\n",
    "\n",
    "# Now we initiate the superimposer:\n",
    "super_imposer = Bio.PDB.Superimposer()\n",
    "super_imposer.set_atoms(ref_atoms, sample_atoms)\n",
    "super_imposer.apply(sample_model.get_atoms())\n",
    "\n",
    "# Print RMSD:\n",
    "print(super_imposer.rms)\n",
    "\n",
    "# Save the aligned version of 1UBQ.pdb\n",
    "io = Bio.PDB.PDBIO()\n",
    "io.set_structure(sample_structure)\n",
    "io.save(\"1UBQ_aligned.pdb\")\n",
    "# 輸出的圖只能看到一個結構，要如何顯示出兩個重疊結構（每個結構不同顏色）"
   ]
  }
 ],
 "metadata": {
  "kernelspec": {
   "display_name": "Python 3",
   "language": "python",
   "name": "python3"
  },
  "language_info": {
   "codemirror_mode": {
    "name": "ipython",
    "version": 3
   },
   "file_extension": ".py",
   "mimetype": "text/x-python",
   "name": "python",
   "nbconvert_exporter": "python",
   "pygments_lexer": "ipython3",
   "version": "3.7.4"
  }
 },
 "nbformat": 4,
 "nbformat_minor": 2
}
